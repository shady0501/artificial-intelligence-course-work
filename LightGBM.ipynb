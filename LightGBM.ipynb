{
 "cells": [
  {
   "cell_type": "code",
   "execution_count": 1,
   "metadata": {
    "_cell_guid": "b1076dfc-b9ad-4769-8c92-a6c4dae69d19",
    "_uuid": "8f2839f25d086af736a60e9eeb907d3b93b6e0e5",
    "execution": {
     "iopub.execute_input": "2024-12-16T09:00:05.506371Z",
     "iopub.status.busy": "2024-12-16T09:00:05.505893Z",
     "iopub.status.idle": "2024-12-16T09:00:09.641973Z",
     "shell.execute_reply": "2024-12-16T09:00:09.640127Z",
     "shell.execute_reply.started": "2024-12-16T09:00:05.506331Z"
    },
    "trusted": true
   },
   "outputs": [],
   "source": [
    "import pandas as pd\n",
    "import numpy as np\n",
    "from sklearn.preprocessing import OneHotEncoder, StandardScaler\n",
    "from sklearn.compose import ColumnTransformer\n",
    "from sklearn.model_selection import train_test_split, GridSearchCV\n",
    "from sklearn.ensemble import RandomForestClassifier, GradientBoostingClassifier\n",
    "from sklearn.pipeline import Pipeline\n",
    "from sklearn.metrics import accuracy_score\n",
    "\n",
    "from xgboost import XGBClassifier\n",
    "from lightgbm import LGBMClassifier"
   ]
  },
  {
   "cell_type": "code",
   "execution_count": 2,
   "metadata": {
    "execution": {
     "iopub.execute_input": "2024-12-16T09:00:09.645125Z",
     "iopub.status.busy": "2024-12-16T09:00:09.644322Z",
     "iopub.status.idle": "2024-12-16T09:00:09.830456Z",
     "shell.execute_reply": "2024-12-16T09:00:09.829262Z",
     "shell.execute_reply.started": "2024-12-16T09:00:09.645079Z"
    },
    "trusted": true
   },
   "outputs": [
    {
     "name": "stdout",
     "output_type": "stream",
     "text": [
      "total of missing entries Gender                            0\n",
      "Age                               0\n",
      "Height                            0\n",
      "Weight                            0\n",
      "family_history_with_overweight    0\n",
      "FAVC                              0\n",
      "FCVC                              0\n",
      "NCP                               0\n",
      "CAEC                              0\n",
      "SMOKE                             0\n",
      "CH2O                              0\n",
      "SCC                               0\n",
      "FAF                               0\n",
      "TUE                               0\n",
      "CALC                              0\n",
      "MTRANS                            0\n",
      "NObeyesdad                        0\n",
      "dtype: int64\n",
      "<class 'pandas.core.frame.DataFrame'>\n",
      "RangeIndex: 20758 entries, 0 to 20757\n",
      "Data columns (total 17 columns):\n",
      " #   Column                          Non-Null Count  Dtype  \n",
      "---  ------                          --------------  -----  \n",
      " 0   Gender                          20758 non-null  object \n",
      " 1   Age                             20758 non-null  float64\n",
      " 2   Height                          20758 non-null  float64\n",
      " 3   Weight                          20758 non-null  float64\n",
      " 4   family_history_with_overweight  20758 non-null  object \n",
      " 5   FAVC                            20758 non-null  object \n",
      " 6   FCVC                            20758 non-null  float64\n",
      " 7   NCP                             20758 non-null  float64\n",
      " 8   CAEC                            20758 non-null  object \n",
      " 9   SMOKE                           20758 non-null  object \n",
      " 10  CH2O                            20758 non-null  float64\n",
      " 11  SCC                             20758 non-null  object \n",
      " 12  FAF                             20758 non-null  float64\n",
      " 13  TUE                             20758 non-null  float64\n",
      " 14  CALC                            20758 non-null  object \n",
      " 15  MTRANS                          20758 non-null  object \n",
      " 16  NObeyesdad                      20758 non-null  object \n",
      "dtypes: float64(8), object(9)\n",
      "memory usage: 2.7+ MB\n",
      "None\n"
     ]
    },
    {
     "data": {
      "text/html": [
       "<div>\n",
       "<style scoped>\n",
       "    .dataframe tbody tr th:only-of-type {\n",
       "        vertical-align: middle;\n",
       "    }\n",
       "\n",
       "    .dataframe tbody tr th {\n",
       "        vertical-align: top;\n",
       "    }\n",
       "\n",
       "    .dataframe thead th {\n",
       "        text-align: right;\n",
       "    }\n",
       "</style>\n",
       "<table border=\"1\" class=\"dataframe\">\n",
       "  <thead>\n",
       "    <tr style=\"text-align: right;\">\n",
       "      <th></th>\n",
       "      <th>Gender</th>\n",
       "      <th>Age</th>\n",
       "      <th>Height</th>\n",
       "      <th>Weight</th>\n",
       "      <th>family_history_with_overweight</th>\n",
       "      <th>FAVC</th>\n",
       "      <th>FCVC</th>\n",
       "      <th>NCP</th>\n",
       "      <th>CAEC</th>\n",
       "      <th>SMOKE</th>\n",
       "      <th>CH2O</th>\n",
       "      <th>SCC</th>\n",
       "      <th>FAF</th>\n",
       "      <th>TUE</th>\n",
       "      <th>CALC</th>\n",
       "      <th>MTRANS</th>\n",
       "      <th>NObeyesdad</th>\n",
       "    </tr>\n",
       "  </thead>\n",
       "  <tbody>\n",
       "    <tr>\n",
       "      <th>0</th>\n",
       "      <td>Male</td>\n",
       "      <td>24.443011</td>\n",
       "      <td>1.699998</td>\n",
       "      <td>81.669950</td>\n",
       "      <td>yes</td>\n",
       "      <td>yes</td>\n",
       "      <td>2.000000</td>\n",
       "      <td>2.983297</td>\n",
       "      <td>Sometimes</td>\n",
       "      <td>no</td>\n",
       "      <td>2.763573</td>\n",
       "      <td>no</td>\n",
       "      <td>0.000000</td>\n",
       "      <td>0.976473</td>\n",
       "      <td>Sometimes</td>\n",
       "      <td>Public_Transportation</td>\n",
       "      <td>Overweight_Level_II</td>\n",
       "    </tr>\n",
       "    <tr>\n",
       "      <th>1</th>\n",
       "      <td>Female</td>\n",
       "      <td>18.000000</td>\n",
       "      <td>1.560000</td>\n",
       "      <td>57.000000</td>\n",
       "      <td>yes</td>\n",
       "      <td>yes</td>\n",
       "      <td>2.000000</td>\n",
       "      <td>3.000000</td>\n",
       "      <td>Frequently</td>\n",
       "      <td>no</td>\n",
       "      <td>2.000000</td>\n",
       "      <td>no</td>\n",
       "      <td>1.000000</td>\n",
       "      <td>1.000000</td>\n",
       "      <td>no</td>\n",
       "      <td>Automobile</td>\n",
       "      <td>Normal_Weight</td>\n",
       "    </tr>\n",
       "    <tr>\n",
       "      <th>2</th>\n",
       "      <td>Female</td>\n",
       "      <td>18.000000</td>\n",
       "      <td>1.711460</td>\n",
       "      <td>50.165754</td>\n",
       "      <td>yes</td>\n",
       "      <td>yes</td>\n",
       "      <td>1.880534</td>\n",
       "      <td>1.411685</td>\n",
       "      <td>Sometimes</td>\n",
       "      <td>no</td>\n",
       "      <td>1.910378</td>\n",
       "      <td>no</td>\n",
       "      <td>0.866045</td>\n",
       "      <td>1.673584</td>\n",
       "      <td>no</td>\n",
       "      <td>Public_Transportation</td>\n",
       "      <td>Insufficient_Weight</td>\n",
       "    </tr>\n",
       "    <tr>\n",
       "      <th>3</th>\n",
       "      <td>Female</td>\n",
       "      <td>20.952737</td>\n",
       "      <td>1.710730</td>\n",
       "      <td>131.274851</td>\n",
       "      <td>yes</td>\n",
       "      <td>yes</td>\n",
       "      <td>3.000000</td>\n",
       "      <td>3.000000</td>\n",
       "      <td>Sometimes</td>\n",
       "      <td>no</td>\n",
       "      <td>1.674061</td>\n",
       "      <td>no</td>\n",
       "      <td>1.467863</td>\n",
       "      <td>0.780199</td>\n",
       "      <td>Sometimes</td>\n",
       "      <td>Public_Transportation</td>\n",
       "      <td>Obesity_Type_III</td>\n",
       "    </tr>\n",
       "    <tr>\n",
       "      <th>4</th>\n",
       "      <td>Male</td>\n",
       "      <td>31.641081</td>\n",
       "      <td>1.914186</td>\n",
       "      <td>93.798055</td>\n",
       "      <td>yes</td>\n",
       "      <td>yes</td>\n",
       "      <td>2.679664</td>\n",
       "      <td>1.971472</td>\n",
       "      <td>Sometimes</td>\n",
       "      <td>no</td>\n",
       "      <td>1.979848</td>\n",
       "      <td>no</td>\n",
       "      <td>1.967973</td>\n",
       "      <td>0.931721</td>\n",
       "      <td>Sometimes</td>\n",
       "      <td>Public_Transportation</td>\n",
       "      <td>Overweight_Level_II</td>\n",
       "    </tr>\n",
       "  </tbody>\n",
       "</table>\n",
       "</div>"
      ],
      "text/plain": [
       "   Gender        Age    Height      Weight family_history_with_overweight  \\\n",
       "0    Male  24.443011  1.699998   81.669950                            yes   \n",
       "1  Female  18.000000  1.560000   57.000000                            yes   \n",
       "2  Female  18.000000  1.711460   50.165754                            yes   \n",
       "3  Female  20.952737  1.710730  131.274851                            yes   \n",
       "4    Male  31.641081  1.914186   93.798055                            yes   \n",
       "\n",
       "  FAVC      FCVC       NCP        CAEC SMOKE      CH2O SCC       FAF  \\\n",
       "0  yes  2.000000  2.983297   Sometimes    no  2.763573  no  0.000000   \n",
       "1  yes  2.000000  3.000000  Frequently    no  2.000000  no  1.000000   \n",
       "2  yes  1.880534  1.411685   Sometimes    no  1.910378  no  0.866045   \n",
       "3  yes  3.000000  3.000000   Sometimes    no  1.674061  no  1.467863   \n",
       "4  yes  2.679664  1.971472   Sometimes    no  1.979848  no  1.967973   \n",
       "\n",
       "        TUE       CALC                 MTRANS           NObeyesdad  \n",
       "0  0.976473  Sometimes  Public_Transportation  Overweight_Level_II  \n",
       "1  1.000000         no             Automobile        Normal_Weight  \n",
       "2  1.673584         no  Public_Transportation  Insufficient_Weight  \n",
       "3  0.780199  Sometimes  Public_Transportation     Obesity_Type_III  \n",
       "4  0.931721  Sometimes  Public_Transportation  Overweight_Level_II  "
      ]
     },
     "execution_count": 2,
     "metadata": {},
     "output_type": "execute_result"
    }
   ],
   "source": [
    "# 读取训练数据集CSV文件，并丢弃'id'列，因为它通常不用于模型训练\n",
    "df = pd.read_csv(\"/kaggle/input/playground-series-s4e2/train.csv\").drop(\"id\", axis=1)\n",
    "print(\"total of missing entries\", df.isna().sum())\n",
    "print(df.info())\n",
    "# 显示数据集的前5行，以便快速检查数据的格式和前几个值\n",
    "df.head(5)"
   ]
  },
  {
   "cell_type": "code",
   "execution_count": 3,
   "metadata": {
    "execution": {
     "iopub.execute_input": "2024-12-16T09:00:09.832234Z",
     "iopub.status.busy": "2024-12-16T09:00:09.831803Z",
     "iopub.status.idle": "2024-12-16T09:00:09.843599Z",
     "shell.execute_reply": "2024-12-16T09:00:09.842417Z",
     "shell.execute_reply.started": "2024-12-16T09:00:09.832178Z"
    },
    "trusted": true
   },
   "outputs": [
    {
     "data": {
      "text/plain": [
       "Gender                             object\n",
       "Age                               float64\n",
       "Height                            float64\n",
       "Weight                            float64\n",
       "family_history_with_overweight     object\n",
       "FAVC                               object\n",
       "FCVC                              float64\n",
       "NCP                               float64\n",
       "CAEC                               object\n",
       "SMOKE                              object\n",
       "CH2O                              float64\n",
       "SCC                                object\n",
       "FAF                               float64\n",
       "TUE                               float64\n",
       "CALC                               object\n",
       "MTRANS                             object\n",
       "dtype: object"
      ]
     },
     "execution_count": 3,
     "metadata": {},
     "output_type": "execute_result"
    }
   ],
   "source": [
    "#将数据框df中的'NObeyesdad'列分离出来\n",
    "#x包含了除了'NObeyesdad'列之外的所有列，而y则只包含'NObeyesdad'列。\n",
    "x = df.drop([\"NObeyesdad\"], axis=1)\n",
    "y = df[\"NObeyesdad\"]\n",
    "x.dtypes"
   ]
  },
  {
   "cell_type": "code",
   "execution_count": 4,
   "metadata": {
    "execution": {
     "iopub.execute_input": "2024-12-16T09:00:09.846342Z",
     "iopub.status.busy": "2024-12-16T09:00:09.845960Z",
     "iopub.status.idle": "2024-12-16T09:00:09.856261Z",
     "shell.execute_reply": "2024-12-16T09:00:09.855301Z",
     "shell.execute_reply.started": "2024-12-16T09:00:09.846315Z"
    },
    "trusted": true
   },
   "outputs": [],
   "source": [
    "#数据预处理函数，对输入的数据框df进行一系列转换和特征工程操作\n",
    "def data_engineering(df):\n",
    "    df = df.copy()\n",
    "    \n",
    "    age_bins = [0, 10, 20, 30, 40, 50, 60, 70, 80, 90]\n",
    "    age_labels = ['0-10', '11-20', '21-30', '31-40', '41-50', '51-60', '61-70', '71-80', '81-90']\n",
    "    df['Age_Category'] = pd.cut(df['Age'], bins=age_bins, labels=age_labels, right=False)\n",
    "    df['Age_Category'] = df['Age_Category'].astype(\"str\")\n",
    "    \n",
    "    df[\"Gender\"] = df[\"Gender\"].map({\"Male\": 1, \"Female\": 0})\n",
    "    \n",
    "    df[\"BMI\"] = (df[\"Weight\"]/df[\"Height\"]**2).astype(\"float\")\n",
    "    df[\"W/H ratio\"] = (df[\"Weight\"]/df[\"Height\"]).astype(\"float\")\n",
    "    \n",
    "    df[\"Weight**2\"] = (df[\"Weight\"]**2).astype(\"float\")\n",
    "    df[\"Age**2\"] = (df[\"Age\"]**2).astype(\"float\")\n",
    "    df[\"BMI**2\"] = (df[\"BMI\"]**2).astype(\"float\")\n",
    "    \n",
    "    df[\"Gender*Age\"] = (df[\"Gender\"]*df[\"Age\"]).astype(\"float\")\n",
    "    df[\"Gender*Weight\"] = (df[\"Gender\"]*df[\"Weight\"]).astype(\"float\")\n",
    "    df[\"Gender*BMI\"] = (df[\"Gender\"]*df[\"BMI\"]).astype(\"float\")\n",
    "    df[\"BMI*Age\"] = (df[\"BMI\"]*df[\"Age\"]).astype(\"float\")\n",
    "    df[\"(BMI*Age) squared\"] = (df[\"BMI\"]**2*df[\"Age\"]**2).astype(\"float\")\n",
    "    df[\"(BMI*Age) cubic\"] = (df[\"BMI\"]**3*df[\"Age\"]**3).astype(\"float\")\n",
    "    \n",
    "    return df"
   ]
  },
  {
   "cell_type": "code",
   "execution_count": 5,
   "metadata": {
    "execution": {
     "iopub.execute_input": "2024-12-16T09:00:09.857764Z",
     "iopub.status.busy": "2024-12-16T09:00:09.857451Z",
     "iopub.status.idle": "2024-12-16T09:00:09.912276Z",
     "shell.execute_reply": "2024-12-16T09:00:09.910983Z",
     "shell.execute_reply.started": "2024-12-16T09:00:09.857739Z"
    },
    "trusted": true
   },
   "outputs": [],
   "source": [
    "#预处理流程，它包括对分类变量进行独热编码和对数值变量进行标准化。\n",
    "x = data_engineering(x)\n",
    "x_cat = x.select_dtypes(include=\"object\").columns\n",
    "x_num = x.select_dtypes(exclude=\"object\").columns\n",
    "\n",
    "cat= Pipeline([\n",
    "    (\"cat\", OneHotEncoder(handle_unknown=\"ignore\"))\n",
    "])\n",
    "\n",
    "num = Pipeline([\n",
    "    (\"scaler\", StandardScaler())\n",
    "])\n",
    "\n",
    "preprocessor = ColumnTransformer([\n",
    "    (\"cat\", cat, x_cat),\n",
    "    (\"num\", num, x_num)\n",
    "])"
   ]
  },
  {
   "cell_type": "code",
   "execution_count": 6,
   "metadata": {
    "execution": {
     "iopub.execute_input": "2024-12-16T09:00:09.913856Z",
     "iopub.status.busy": "2024-12-16T09:00:09.913537Z",
     "iopub.status.idle": "2024-12-16T09:00:09.924684Z",
     "shell.execute_reply": "2024-12-16T09:00:09.923620Z",
     "shell.execute_reply.started": "2024-12-16T09:00:09.913829Z"
    },
    "trusted": true
   },
   "outputs": [
    {
     "data": {
      "text/plain": [
       "\"x_train, x_val, y_train, y_val = train_test_split(x,y, train_size=0.3, random_state=42)\\n\\nparams = {\\n    'lgbmc__num_leaves': [31, 50, 70],\\n    'lgbmc__max_depth': [-1, 10, 20, 30],\\n    #'learning_rate': [0.1, 0.05, 0.01],\\n    'lgbmc__n_estimators': [100, 200],\\n    'lgbmc__min_child_samples': [20, 30, 40],\\n    #'subsample': [0.6, 0.8, 1.0],\\n    #'colsample_bytree': [0.6, 0.8, 1.0],\\n    #'reg_alpha': [0, 0.1, 0.5],\\n    #'reg_lambda': [0, 0.1, 0.5]\\n}\\n\\ngrid = GridSearchCV(estimator=model, param_grid=params, cv=3, n_jobs=-1, verbose=0).fit(x_train, y_train)\\nmodel = grid.best_estimator_\\n\\nprint(accuracy_score(y_val, model.best_grid_model(x_val)) )\""
      ]
     },
     "execution_count": 6,
     "metadata": {},
     "output_type": "execute_result"
    }
   ],
   "source": [
    "\n",
    "params = {\n",
    "    \"objective\": \"multiclass\",          # 模型的目标函数，这里设置为多分类\n",
    "    \"metric\": \"multi_logloss\",          # 评估模型性能的指标\n",
    "    \"verbosity\": -1,                    # 日志级别，-1表示不输出任何日志\n",
    "    \"boosting_type\": \"gbdt\",            # 梯度提升树的类型，这里使用GBDT\n",
    "    \"random_state\": 42,        # 随机种子，用于结果的可复现性\n",
    "    \"num_class\": 7,                      # 数据集中的类别数\n",
    "    'learning_rate': 0.030962211546832760, # 梯度提升的学习率\n",
    "    'n_estimators': 500,                # 提升树的数量\n",
    "    'lambda_l1': 0.009667446568254372,  # L1正则化项\n",
    "    'lambda_l2': 0.04018641437301800,   # L2正则化项\n",
    "    'max_depth': 10,                    # 树的最大深度\n",
    "    'colsample_bytree': 0.40977129346872643,  # 每棵树考虑的特征比例\n",
    "    'subsample': 0.9535797422450176,   # 每次提升迭代考虑的样本比例\n",
    "    'min_child_samples': 26             # 叶子节点所需的最小样本数\n",
    "}\n",
    "#构建了一个Pipeline，包含预处理步骤preprocessor和LightGBM分类器LGBMClassifier\n",
    "#参数通过**params传递\n",
    "model = Pipeline([\n",
    "    (\"pre\", preprocessor),\n",
    "    #(\"lgbmc\", LGBMClassifier(max_depth=10, min_child_samples=30, verbose=-1))\n",
    "    (\"lgbmc\", LGBMClassifier(**params))\n",
    "])\n",
    "\n",
    "\n",
    "#数据划分\n",
    "#定义了要进行网格搜索的参数，包括叶子节点数、最大深度、迭代次数和最小子样本数。\n",
    "#使用GridSearchCV进行网格搜索，找到最佳的参数组合，并更新模型为最佳估计器。\n",
    "#使用accuracy_score计算验证集上的准确率，model.best_grid_model(x_val)表示使用最佳参数在验证集上的预测结果。\n",
    "\"\"\"x_train, x_val, y_train, y_val = train_test_split(x,y, train_size=0.3, random_state=42)\n",
    "\n",
    "params = {\n",
    "    'lgbmc__num_leaves': [31, 50, 70],\n",
    "    'lgbmc__max_depth': [-1, 10, 20, 30],\n",
    "    #'learning_rate': [0.1, 0.05, 0.01],\n",
    "    'lgbmc__n_estimators': [100, 200],\n",
    "    'lgbmc__min_child_samples': [20, 30, 40],\n",
    "    #'subsample': [0.6, 0.8, 1.0],\n",
    "    #'colsample_bytree': [0.6, 0.8, 1.0],\n",
    "    #'reg_alpha': [0, 0.1, 0.5],\n",
    "    #'reg_lambda': [0, 0.1, 0.5]\n",
    "}\n",
    "\n",
    "grid = GridSearchCV(estimator=model, param_grid=params, cv=3, n_jobs=-1, verbose=0).fit(x_train, y_train)\n",
    "model = grid.best_estimator_\n",
    "\n",
    "print(accuracy_score(y_val, model.best_grid_model(x_val)) )\"\"\""
   ]
  },
  {
   "cell_type": "code",
   "execution_count": 7,
   "metadata": {
    "execution": {
     "iopub.execute_input": "2024-12-16T09:00:09.926317Z",
     "iopub.status.busy": "2024-12-16T09:00:09.925973Z",
     "iopub.status.idle": "2024-12-16T09:00:09.948199Z",
     "shell.execute_reply": "2024-12-16T09:00:09.947033Z",
     "shell.execute_reply.started": "2024-12-16T09:00:09.926290Z"
    },
    "trusted": true
   },
   "outputs": [
    {
     "data": {
      "text/plain": [
       "'model = Pipeline([\\n    (\"pre\", preprocessor),\\n    (\"lgbmc\", LGBMClassifier(**params_best_model))\\n])'"
      ]
     },
     "execution_count": 7,
     "metadata": {},
     "output_type": "execute_result"
    }
   ],
   "source": [
    "\"\"\"model = Pipeline([\n",
    "    (\"pre\", preprocessor),\n",
    "    (\"lgbmc\", LGBMClassifier(**params_best_model))\n",
    "])\"\"\""
   ]
  },
  {
   "cell_type": "code",
   "execution_count": 8,
   "metadata": {
    "execution": {
     "iopub.execute_input": "2024-12-16T09:00:09.949898Z",
     "iopub.status.busy": "2024-12-16T09:00:09.949529Z",
     "iopub.status.idle": "2024-12-16T09:00:09.967394Z",
     "shell.execute_reply": "2024-12-16T09:00:09.966056Z",
     "shell.execute_reply.started": "2024-12-16T09:00:09.949863Z"
    },
    "trusted": true
   },
   "outputs": [
    {
     "data": {
      "text/plain": [
       "'model.fit(x_train, y_train)\\naccuracy_score(y_val, model.predict(x_val)) '"
      ]
     },
     "execution_count": 8,
     "metadata": {},
     "output_type": "execute_result"
    }
   ],
   "source": [
    "\"\"\"model.fit(x_train, y_train)\n",
    "accuracy_score(y_val, model.predict(x_val)) \"\"\""
   ]
  },
  {
   "cell_type": "code",
   "execution_count": 9,
   "metadata": {
    "execution": {
     "iopub.execute_input": "2024-12-16T09:00:09.968935Z",
     "iopub.status.busy": "2024-12-16T09:00:09.968638Z",
     "iopub.status.idle": "2024-12-16T09:00:37.144319Z",
     "shell.execute_reply": "2024-12-16T09:00:37.143041Z",
     "shell.execute_reply.started": "2024-12-16T09:00:09.968911Z"
    },
    "trusted": true
   },
   "outputs": [
    {
     "data": {
      "text/html": [
       "<div>\n",
       "<style scoped>\n",
       "    .dataframe tbody tr th:only-of-type {\n",
       "        vertical-align: middle;\n",
       "    }\n",
       "\n",
       "    .dataframe tbody tr th {\n",
       "        vertical-align: top;\n",
       "    }\n",
       "\n",
       "    .dataframe thead th {\n",
       "        text-align: right;\n",
       "    }\n",
       "</style>\n",
       "<table border=\"1\" class=\"dataframe\">\n",
       "  <thead>\n",
       "    <tr style=\"text-align: right;\">\n",
       "      <th></th>\n",
       "      <th>id</th>\n",
       "      <th>NObeyesdad</th>\n",
       "    </tr>\n",
       "  </thead>\n",
       "  <tbody>\n",
       "    <tr>\n",
       "      <th>0</th>\n",
       "      <td>20758</td>\n",
       "      <td>Obesity_Type_II</td>\n",
       "    </tr>\n",
       "    <tr>\n",
       "      <th>1</th>\n",
       "      <td>20759</td>\n",
       "      <td>Overweight_Level_I</td>\n",
       "    </tr>\n",
       "    <tr>\n",
       "      <th>2</th>\n",
       "      <td>20760</td>\n",
       "      <td>Obesity_Type_III</td>\n",
       "    </tr>\n",
       "    <tr>\n",
       "      <th>3</th>\n",
       "      <td>20761</td>\n",
       "      <td>Obesity_Type_I</td>\n",
       "    </tr>\n",
       "    <tr>\n",
       "      <th>4</th>\n",
       "      <td>20762</td>\n",
       "      <td>Obesity_Type_III</td>\n",
       "    </tr>\n",
       "    <tr>\n",
       "      <th>...</th>\n",
       "      <td>...</td>\n",
       "      <td>...</td>\n",
       "    </tr>\n",
       "    <tr>\n",
       "      <th>13835</th>\n",
       "      <td>34593</td>\n",
       "      <td>Overweight_Level_II</td>\n",
       "    </tr>\n",
       "    <tr>\n",
       "      <th>13836</th>\n",
       "      <td>34594</td>\n",
       "      <td>Normal_Weight</td>\n",
       "    </tr>\n",
       "    <tr>\n",
       "      <th>13837</th>\n",
       "      <td>34595</td>\n",
       "      <td>Insufficient_Weight</td>\n",
       "    </tr>\n",
       "    <tr>\n",
       "      <th>13838</th>\n",
       "      <td>34596</td>\n",
       "      <td>Normal_Weight</td>\n",
       "    </tr>\n",
       "    <tr>\n",
       "      <th>13839</th>\n",
       "      <td>34597</td>\n",
       "      <td>Obesity_Type_II</td>\n",
       "    </tr>\n",
       "  </tbody>\n",
       "</table>\n",
       "<p>13840 rows × 2 columns</p>\n",
       "</div>"
      ],
      "text/plain": [
       "          id           NObeyesdad\n",
       "0      20758      Obesity_Type_II\n",
       "1      20759   Overweight_Level_I\n",
       "2      20760     Obesity_Type_III\n",
       "3      20761       Obesity_Type_I\n",
       "4      20762     Obesity_Type_III\n",
       "...      ...                  ...\n",
       "13835  34593  Overweight_Level_II\n",
       "13836  34594        Normal_Weight\n",
       "13837  34595  Insufficient_Weight\n",
       "13838  34596        Normal_Weight\n",
       "13839  34597      Obesity_Type_II\n",
       "\n",
       "[13840 rows x 2 columns]"
      ]
     },
     "execution_count": 9,
     "metadata": {},
     "output_type": "execute_result"
    }
   ],
   "source": [
    "output = pd.read_csv(\"/kaggle/input/playground-series-s4e2/sample_submission.csv\")\n",
    "test = pd.read_csv(\"/kaggle/input/playground-series-s4e2/test.csv\")\n",
    "\n",
    "\n",
    "model.fit(x, y)\n",
    "test = data_engineering(test)\n",
    "prediction = model.predict(test)\n",
    "output[\"NObeyesdad\"] = prediction\n",
    "output.to_csv(\"submission.csv\", index=False)\n",
    "output\n"
   ]
  },
  {
   "attachments": {
    "8dc77e7e389cccb04e1aaea8acfe43b9.png": {
     "image/png": "[encoded data removed]"
    }
   },
   "cell_type": "markdown",
   "metadata": {},
   "source": [
    "# 使用LightGBM进行分类\n",
    "\n",
    "![8dc77e7e389cccb04e1aaea8acfe43b9.png](attachment:8dc77e7e389cccb04e1aaea8acfe43b9.png)"
   ]
  },
  {
   "cell_type": "code",
   "execution_count": 10,
   "metadata": {
    "execution": {
     "iopub.execute_input": "2024-12-16T09:00:37.147018Z",
     "iopub.status.busy": "2024-12-16T09:00:37.146677Z",
     "iopub.status.idle": "2024-12-16T09:00:37.153999Z",
     "shell.execute_reply": "2024-12-16T09:00:37.152959Z",
     "shell.execute_reply.started": "2024-12-16T09:00:37.146990Z"
    },
    "trusted": true
   },
   "outputs": [
    {
     "data": {
      "text/plain": [
       "\"model_fit = model.named_steps['lgbmc']  \\nimportances = model_fit.feature_importances_\\n\\nfeature_names = model.named_steps['pre'].get_feature_names_out()\\nfeature_importance_df = pd.DataFrame({\\n    'Feature': feature_names,\\n    'Importance': importances\\n}).sort_values(by='Importance', ascending=False)\\nfeature_importance_df\\nimport seaborn as sns\\n\\nplt.figure(figsize=(10, 8)) \\n\\n# Plot\\nsns.barplot(data=feature_importance_df, x='Importance', y='Feature', orient='h')\\n\\n# Adjust layout to increase spacing\\nplt.subplots_adjust(left=0.2, right=0.8, top=0.9, bottom=0.1)\\n\\nplt.xlabel('Importance')\\nplt.ylabel('Feature')\\nplt.title('Feature Importances')\\nplt.show()\""
      ]
     },
     "execution_count": 10,
     "metadata": {},
     "output_type": "execute_result"
    }
   ],
   "source": [
    "#可视化一个训练好的LightGBM模型的特征重要性。\n",
    "\"\"\"model_fit = model.named_steps['lgbmc']  \n",
    "importances = model_fit.feature_importances_\n",
    "\n",
    "feature_names = model.named_steps['pre'].get_feature_names_out()\n",
    "feature_importance_df = pd.DataFrame({\n",
    "    'Feature': feature_names,\n",
    "    'Importance': importances\n",
    "}).sort_values(by='Importance', ascending=False)\n",
    "feature_importance_df\n",
    "import seaborn as sns\n",
    "\n",
    "plt.figure(figsize=(10, 8)) \n",
    "\n",
    "# Plot\n",
    "sns.barplot(data=feature_importance_df, x='Importance', y='Feature', orient='h')\n",
    "\n",
    "# Adjust layout to increase spacing\n",
    "plt.subplots_adjust(left=0.2, right=0.8, top=0.9, bottom=0.1)\n",
    "\n",
    "plt.xlabel('Importance')\n",
    "plt.ylabel('Feature')\n",
    "plt.title('Feature Importances')\n",
    "plt.show()\"\"\""
   ]
  }
 ],
 "metadata": {
  "kaggle": {
   "accelerator": "none",
   "dataSources": [
    {
     "databundleVersionId": 7609535,
     "sourceId": 68479,
     "sourceType": "competition"
    }
   ],
   "dockerImageVersionId": 30746,
   "isGpuEnabled": false,
   "isInternetEnabled": false,
   "language": "python",
   "sourceType": "notebook"
  },
  "kernelspec": {
   "display_name": "Python 3",
   "language": "python",
   "name": "python3"
  },
  "language_info": {
   "codemirror_mode": {
    "name": "ipython",
    "version": 3
   },
   "file_extension": ".py",
   "mimetype": "text/x-python",
   "name": "python",
   "nbconvert_exporter": "python",
   "pygments_lexer": "ipython3",
   "version": "3.10.13"
  }
 },
 "nbformat": 4,
 "nbformat_minor": 4
}
